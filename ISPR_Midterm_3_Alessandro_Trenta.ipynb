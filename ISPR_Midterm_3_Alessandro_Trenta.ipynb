{
  "cells": [
    {
      "cell_type": "markdown",
      "metadata": {
        "id": "MX7O6LQgTsJ3"
      },
      "source": [
        "# ISPR Midterm 3\n",
        "# Alessandro Trenta - 566072\n",
        "## Assignment 4\n"
      ]
    },
    {
      "cell_type": "markdown",
      "metadata": {
        "id": "2Z64BHY5T1wN"
      },
      "source": [
        "Mount GDrive to import the csv files of the dataset"
      ]
    },
    {
      "cell_type": "markdown",
      "metadata": {
        "id": "KNc0OB6BT_6c"
      },
      "source": [
        "Import necessary libraries"
      ]
    },
    {
      "cell_type": "code",
      "execution_count": 1,
      "metadata": {
        "id": "0BzE5g0IU7d0"
      },
      "outputs": [],
      "source": [
        "import pandas as pd\n",
        "import tensorflow as tf\n",
        "import numpy as np\n",
        "import re\n",
        "import os\n",
        "import datetime\n",
        "import time"
      ]
    },
    {
      "cell_type": "markdown",
      "metadata": {
        "id": "hVrwgAoij-Vq"
      },
      "source": [
        "load tensorboard extension"
      ]
    },
    {
      "cell_type": "code",
      "execution_count": 2,
      "metadata": {
        "id": "9onQ0o2xj-tJ"
      },
      "outputs": [],
      "source": [
        "%load_ext tensorboard"
      ]
    },
    {
      "cell_type": "markdown",
      "metadata": {
        "id": "jIEVOfaPUWJe"
      },
      "source": [
        "## Data import and clean\n",
        "\n",
        "Import the main csv file containing all presidential speeches"
      ]
    },
    {
      "cell_type": "code",
      "execution_count": 3,
      "metadata": {
        "colab": {
          "base_uri": "https://localhost:8080/",
          "height": 206
        },
        "id": "q_oOTjLFU-UK",
        "outputId": "a4489a8c-f43b-4e18-f9a0-890b178e9888"
      },
      "outputs": [
        {
          "data": {
            "text/html": [
              "<div>\n",
              "<style scoped>\n",
              "    .dataframe tbody tr th:only-of-type {\n",
              "        vertical-align: middle;\n",
              "    }\n",
              "\n",
              "    .dataframe tbody tr th {\n",
              "        vertical-align: top;\n",
              "    }\n",
              "\n",
              "    .dataframe thead th {\n",
              "        text-align: right;\n",
              "    }\n",
              "</style>\n",
              "<table border=\"1\" class=\"dataframe\">\n",
              "  <thead>\n",
              "    <tr style=\"text-align: right;\">\n",
              "      <th></th>\n",
              "      <th>Date</th>\n",
              "      <th>President</th>\n",
              "      <th>Party</th>\n",
              "      <th>Speech Title</th>\n",
              "      <th>Summary</th>\n",
              "      <th>Transcript</th>\n",
              "      <th>URL</th>\n",
              "    </tr>\n",
              "  </thead>\n",
              "  <tbody>\n",
              "    <tr>\n",
              "      <th>0</th>\n",
              "      <td>1789-04-30</td>\n",
              "      <td>George Washington</td>\n",
              "      <td>Unaffiliated</td>\n",
              "      <td>First Inaugural Address</td>\n",
              "      <td>Washington calls on Congress to avoid local an...</td>\n",
              "      <td>Fellow Citizens of the Senate and the House of...</td>\n",
              "      <td>https://millercenter.org/the-presidency/presid...</td>\n",
              "    </tr>\n",
              "    <tr>\n",
              "      <th>1</th>\n",
              "      <td>1789-10-03</td>\n",
              "      <td>George Washington</td>\n",
              "      <td>Unaffiliated</td>\n",
              "      <td>Thanksgiving Proclamation</td>\n",
              "      <td>At the request of Congress, Washington establi...</td>\n",
              "      <td>Whereas it is the duty of all Nations to ackno...</td>\n",
              "      <td>https://millercenter.org/the-presidency/presid...</td>\n",
              "    </tr>\n",
              "    <tr>\n",
              "      <th>2</th>\n",
              "      <td>1790-01-08</td>\n",
              "      <td>George Washington</td>\n",
              "      <td>Unaffiliated</td>\n",
              "      <td>First Annual Message to Congress</td>\n",
              "      <td>In a wide ranging speech, President Washington...</td>\n",
              "      <td>Fellow Citizens of the Senate and House of Rep...</td>\n",
              "      <td>https://millercenter.org/the-presidency/presid...</td>\n",
              "    </tr>\n",
              "    <tr>\n",
              "      <th>3</th>\n",
              "      <td>1790-12-08</td>\n",
              "      <td>George Washington</td>\n",
              "      <td>Unaffiliated</td>\n",
              "      <td>Second Annual Message to Congress</td>\n",
              "      <td>Washington focuses on commerce in his second a...</td>\n",
              "      <td>Fellow citizens of the Senate and House of Rep...</td>\n",
              "      <td>https://millercenter.org/the-presidency/presid...</td>\n",
              "    </tr>\n",
              "    <tr>\n",
              "      <th>4</th>\n",
              "      <td>1790-12-29</td>\n",
              "      <td>George Washington</td>\n",
              "      <td>Unaffiliated</td>\n",
              "      <td>Talk to the Chiefs and Counselors of the Senec...</td>\n",
              "      <td>The President reassures the Seneca Nation that...</td>\n",
              "      <td>I the President of the United States, by my ow...</td>\n",
              "      <td>https://millercenter.org/the-presidency/presid...</td>\n",
              "    </tr>\n",
              "  </tbody>\n",
              "</table>\n",
              "</div>"
            ],
            "text/plain": [
              "         Date          President         Party  \\\n",
              "0  1789-04-30  George Washington  Unaffiliated   \n",
              "1  1789-10-03  George Washington  Unaffiliated   \n",
              "2  1790-01-08  George Washington  Unaffiliated   \n",
              "3  1790-12-08  George Washington  Unaffiliated   \n",
              "4  1790-12-29  George Washington  Unaffiliated   \n",
              "\n",
              "                                        Speech Title  \\\n",
              "0                            First Inaugural Address   \n",
              "1                          Thanksgiving Proclamation   \n",
              "2                   First Annual Message to Congress   \n",
              "3                  Second Annual Message to Congress   \n",
              "4  Talk to the Chiefs and Counselors of the Senec...   \n",
              "\n",
              "                                             Summary  \\\n",
              "0  Washington calls on Congress to avoid local an...   \n",
              "1  At the request of Congress, Washington establi...   \n",
              "2  In a wide ranging speech, President Washington...   \n",
              "3  Washington focuses on commerce in his second a...   \n",
              "4  The President reassures the Seneca Nation that...   \n",
              "\n",
              "                                          Transcript  \\\n",
              "0  Fellow Citizens of the Senate and the House of...   \n",
              "1  Whereas it is the duty of all Nations to ackno...   \n",
              "2  Fellow Citizens of the Senate and House of Rep...   \n",
              "3  Fellow citizens of the Senate and House of Rep...   \n",
              "4  I the President of the United States, by my ow...   \n",
              "\n",
              "                                                 URL  \n",
              "0  https://millercenter.org/the-presidency/presid...  \n",
              "1  https://millercenter.org/the-presidency/presid...  \n",
              "2  https://millercenter.org/the-presidency/presid...  \n",
              "3  https://millercenter.org/the-presidency/presid...  \n",
              "4  https://millercenter.org/the-presidency/presid...  "
            ]
          },
          "execution_count": 3,
          "metadata": {},
          "output_type": "execute_result"
        }
      ],
      "source": [
        "# Import the csv file in a pandas dataframe\n",
        "raw_speeches = pd.read_csv('./archive/presidential_speeches.csv',encoding = \"UTF-8\")\n",
        "raw_speeches.head()"
      ]
    },
    {
      "cell_type": "markdown",
      "metadata": {
        "id": "9Eqi0cwvUggi"
      },
      "source": [
        "Now we filter only the speeches from President Clinton"
      ]
    },
    {
      "cell_type": "code",
      "execution_count": 4,
      "metadata": {
        "colab": {
          "base_uri": "https://localhost:8080/",
          "height": 206
        },
        "id": "XZHiYa0NVRB0",
        "outputId": "b0c91eb0-d9ad-40a2-b297-c552b1d5e78a"
      },
      "outputs": [
        {
          "data": {
            "text/html": [
              "<div>\n",
              "<style scoped>\n",
              "    .dataframe tbody tr th:only-of-type {\n",
              "        vertical-align: middle;\n",
              "    }\n",
              "\n",
              "    .dataframe tbody tr th {\n",
              "        vertical-align: top;\n",
              "    }\n",
              "\n",
              "    .dataframe thead th {\n",
              "        text-align: right;\n",
              "    }\n",
              "</style>\n",
              "<table border=\"1\" class=\"dataframe\">\n",
              "  <thead>\n",
              "    <tr style=\"text-align: right;\">\n",
              "      <th></th>\n",
              "      <th>Date</th>\n",
              "      <th>President</th>\n",
              "      <th>Party</th>\n",
              "      <th>Speech Title</th>\n",
              "      <th>Summary</th>\n",
              "      <th>Transcript</th>\n",
              "      <th>URL</th>\n",
              "    </tr>\n",
              "  </thead>\n",
              "  <tbody>\n",
              "    <tr>\n",
              "      <th>845</th>\n",
              "      <td>1993-01-20</td>\n",
              "      <td>Bill Clinton</td>\n",
              "      <td>Democratic</td>\n",
              "      <td>First Inaugural</td>\n",
              "      <td>As the first President elected in the post-Col...</td>\n",
              "      <td>My fellow citizens, today we celebrate the mys...</td>\n",
              "      <td>https://millercenter.org/the-presidency/presid...</td>\n",
              "    </tr>\n",
              "    <tr>\n",
              "      <th>846</th>\n",
              "      <td>1993-01-29</td>\n",
              "      <td>Bill Clinton</td>\n",
              "      <td>Democratic</td>\n",
              "      <td>Press Conference on \"Gays in the Military\"</td>\n",
              "      <td>President Bill Clinton addresses the press reg...</td>\n",
              "      <td>The President. Good afternoon, ladies and gent...</td>\n",
              "      <td>https://millercenter.org/the-presidency/presid...</td>\n",
              "    </tr>\n",
              "    <tr>\n",
              "      <th>847</th>\n",
              "      <td>1993-02-05</td>\n",
              "      <td>Bill Clinton</td>\n",
              "      <td>Democratic</td>\n",
              "      <td>Remarks at the Signing of the Family Medical L...</td>\n",
              "      <td>President Clinton signs the Family Medical Lea...</td>\n",
              "      <td>Thank you very much, thank you. Mrs. Yandle, I...</td>\n",
              "      <td>https://millercenter.org/the-presidency/presid...</td>\n",
              "    </tr>\n",
              "    <tr>\n",
              "      <th>848</th>\n",
              "      <td>1993-02-17</td>\n",
              "      <td>Bill Clinton</td>\n",
              "      <td>Democratic</td>\n",
              "      <td>Address Before a Joint Session of Congress</td>\n",
              "      <td>Clinton gives the economy his primary focus. H...</td>\n",
              "      <td>Mr. President, Mr. Speaker, Members of the Hou...</td>\n",
              "      <td>https://millercenter.org/the-presidency/presid...</td>\n",
              "    </tr>\n",
              "    <tr>\n",
              "      <th>849</th>\n",
              "      <td>1993-04-30</td>\n",
              "      <td>Bill Clinton</td>\n",
              "      <td>Democratic</td>\n",
              "      <td>National Service Address</td>\n",
              "      <td>On the 100th day of his administration, Presid...</td>\n",
              "      <td>It is wonderful to be back in New Orleans and ...</td>\n",
              "      <td>https://millercenter.org/the-presidency/presid...</td>\n",
              "    </tr>\n",
              "  </tbody>\n",
              "</table>\n",
              "</div>"
            ],
            "text/plain": [
              "           Date     President       Party  \\\n",
              "845  1993-01-20  Bill Clinton  Democratic   \n",
              "846  1993-01-29  Bill Clinton  Democratic   \n",
              "847  1993-02-05  Bill Clinton  Democratic   \n",
              "848  1993-02-17  Bill Clinton  Democratic   \n",
              "849  1993-04-30  Bill Clinton  Democratic   \n",
              "\n",
              "                                          Speech Title  \\\n",
              "845                                    First Inaugural   \n",
              "846         Press Conference on \"Gays in the Military\"   \n",
              "847  Remarks at the Signing of the Family Medical L...   \n",
              "848         Address Before a Joint Session of Congress   \n",
              "849                           National Service Address   \n",
              "\n",
              "                                               Summary  \\\n",
              "845  As the first President elected in the post-Col...   \n",
              "846  President Bill Clinton addresses the press reg...   \n",
              "847  President Clinton signs the Family Medical Lea...   \n",
              "848  Clinton gives the economy his primary focus. H...   \n",
              "849  On the 100th day of his administration, Presid...   \n",
              "\n",
              "                                            Transcript  \\\n",
              "845  My fellow citizens, today we celebrate the mys...   \n",
              "846  The President. Good afternoon, ladies and gent...   \n",
              "847  Thank you very much, thank you. Mrs. Yandle, I...   \n",
              "848  Mr. President, Mr. Speaker, Members of the Hou...   \n",
              "849  It is wonderful to be back in New Orleans and ...   \n",
              "\n",
              "                                                   URL  \n",
              "845  https://millercenter.org/the-presidency/presid...  \n",
              "846  https://millercenter.org/the-presidency/presid...  \n",
              "847  https://millercenter.org/the-presidency/presid...  \n",
              "848  https://millercenter.org/the-presidency/presid...  \n",
              "849  https://millercenter.org/the-presidency/presid...  "
            ]
          },
          "execution_count": 4,
          "metadata": {},
          "output_type": "execute_result"
        }
      ],
      "source": [
        "clinton = raw_speeches[raw_speeches['President']=='Bill Clinton']\n",
        "clinton.head()"
      ]
    },
    {
      "cell_type": "markdown",
      "metadata": {
        "id": "YZmEEcB-Ul-m"
      },
      "source": [
        "There are 39 speeches from President Clinton in total"
      ]
    },
    {
      "cell_type": "code",
      "execution_count": 5,
      "metadata": {
        "colab": {
          "base_uri": "https://localhost:8080/"
        },
        "id": "4xQHxcjqW0SW",
        "outputId": "572ac7ec-9e6d-4204-e243-2945b602a9a6"
      },
      "outputs": [
        {
          "name": "stdout",
          "output_type": "stream",
          "text": [
            "(39, 7)\n"
          ]
        }
      ],
      "source": [
        "print(clinton.shape)"
      ]
    },
    {
      "cell_type": "markdown",
      "metadata": {
        "id": "g3XNYtLwUqYS"
      },
      "source": [
        "Here we do the same filtering but on the President Trump speeches"
      ]
    },
    {
      "cell_type": "code",
      "execution_count": 6,
      "metadata": {
        "colab": {
          "base_uri": "https://localhost:8080/",
          "height": 206
        },
        "id": "iRwOkXk5WHg2",
        "outputId": "45dfae76-f1f6-48a2-be81-8a907b440ec3"
      },
      "outputs": [
        {
          "data": {
            "text/html": [
              "<div>\n",
              "<style scoped>\n",
              "    .dataframe tbody tr th:only-of-type {\n",
              "        vertical-align: middle;\n",
              "    }\n",
              "\n",
              "    .dataframe tbody tr th {\n",
              "        vertical-align: top;\n",
              "    }\n",
              "\n",
              "    .dataframe thead th {\n",
              "        text-align: right;\n",
              "    }\n",
              "</style>\n",
              "<table border=\"1\" class=\"dataframe\">\n",
              "  <thead>\n",
              "    <tr style=\"text-align: right;\">\n",
              "      <th></th>\n",
              "      <th>Date</th>\n",
              "      <th>President</th>\n",
              "      <th>Party</th>\n",
              "      <th>Speech Title</th>\n",
              "      <th>Summary</th>\n",
              "      <th>Transcript</th>\n",
              "      <th>URL</th>\n",
              "    </tr>\n",
              "  </thead>\n",
              "  <tbody>\n",
              "    <tr>\n",
              "      <th>973</th>\n",
              "      <td>2017-01-20</td>\n",
              "      <td>Donald Trump</td>\n",
              "      <td>Republican</td>\n",
              "      <td>Inaugural Address</td>\n",
              "      <td>Donald J. Trump was inaugurated on January 20,...</td>\n",
              "      <td>Chief Justice Roberts, President Carter, Presi...</td>\n",
              "      <td>https://millercenter.org/the-presidency/presid...</td>\n",
              "    </tr>\n",
              "    <tr>\n",
              "      <th>974</th>\n",
              "      <td>2017-02-28</td>\n",
              "      <td>Donald Trump</td>\n",
              "      <td>Republican</td>\n",
              "      <td>Address to Joint Session of Congress</td>\n",
              "      <td>NaN</td>\n",
              "      <td>Mr. Speaker, Mr. Vice President, Members of Co...</td>\n",
              "      <td>https://millercenter.org/the-presidency/presid...</td>\n",
              "    </tr>\n",
              "    <tr>\n",
              "      <th>975</th>\n",
              "      <td>2017-06-29</td>\n",
              "      <td>Donald Trump</td>\n",
              "      <td>Republican</td>\n",
              "      <td>Speech at the Unleashing American Energy Event</td>\n",
              "      <td>President Donald Trump talks about his adminis...</td>\n",
              "      <td>Thank you, everybody. Thank you very much. How...</td>\n",
              "      <td>https://millercenter.org/the-presidency/presid...</td>\n",
              "    </tr>\n",
              "    <tr>\n",
              "      <th>976</th>\n",
              "      <td>2017-07-24</td>\n",
              "      <td>Donald Trump</td>\n",
              "      <td>Republican</td>\n",
              "      <td>Speech at the Boy Scout Jamboree</td>\n",
              "      <td>President Trump addresses the Boy Scout Jambor...</td>\n",
              "      <td>TRUMP: Thank you, everybody. Thank you very mu...</td>\n",
              "      <td>https://millercenter.org/the-presidency/presid...</td>\n",
              "    </tr>\n",
              "    <tr>\n",
              "      <th>977</th>\n",
              "      <td>2017-09-19</td>\n",
              "      <td>Donald Trump</td>\n",
              "      <td>Republican</td>\n",
              "      <td>Address to the United Nations General Assembly</td>\n",
              "      <td>President Trump addresses the 72nd session of ...</td>\n",
              "      <td>Mr. Secretary General, Mr. President, world le...</td>\n",
              "      <td>https://millercenter.org/the-presidency/presid...</td>\n",
              "    </tr>\n",
              "  </tbody>\n",
              "</table>\n",
              "</div>"
            ],
            "text/plain": [
              "           Date     President       Party  \\\n",
              "973  2017-01-20  Donald Trump  Republican   \n",
              "974  2017-02-28  Donald Trump  Republican   \n",
              "975  2017-06-29  Donald Trump  Republican   \n",
              "976  2017-07-24  Donald Trump  Republican   \n",
              "977  2017-09-19  Donald Trump  Republican   \n",
              "\n",
              "                                       Speech Title  \\\n",
              "973                               Inaugural Address   \n",
              "974            Address to Joint Session of Congress   \n",
              "975  Speech at the Unleashing American Energy Event   \n",
              "976                Speech at the Boy Scout Jamboree   \n",
              "977  Address to the United Nations General Assembly   \n",
              "\n",
              "                                               Summary  \\\n",
              "973  Donald J. Trump was inaugurated on January 20,...   \n",
              "974                                                NaN   \n",
              "975  President Donald Trump talks about his adminis...   \n",
              "976  President Trump addresses the Boy Scout Jambor...   \n",
              "977  President Trump addresses the 72nd session of ...   \n",
              "\n",
              "                                            Transcript  \\\n",
              "973  Chief Justice Roberts, President Carter, Presi...   \n",
              "974  Mr. Speaker, Mr. Vice President, Members of Co...   \n",
              "975  Thank you, everybody. Thank you very much. How...   \n",
              "976  TRUMP: Thank you, everybody. Thank you very mu...   \n",
              "977  Mr. Secretary General, Mr. President, world le...   \n",
              "\n",
              "                                                   URL  \n",
              "973  https://millercenter.org/the-presidency/presid...  \n",
              "974  https://millercenter.org/the-presidency/presid...  \n",
              "975  https://millercenter.org/the-presidency/presid...  \n",
              "976  https://millercenter.org/the-presidency/presid...  \n",
              "977  https://millercenter.org/the-presidency/presid...  "
            ]
          },
          "execution_count": 6,
          "metadata": {},
          "output_type": "execute_result"
        }
      ],
      "source": [
        "trump = raw_speeches[raw_speeches['President']=='Donald Trump']\n",
        "trump.head()"
      ]
    },
    {
      "cell_type": "markdown",
      "metadata": {
        "id": "gFDmK6pjYP5r"
      },
      "source": [
        "There are 19 Trump speeches in total"
      ]
    },
    {
      "cell_type": "code",
      "execution_count": 7,
      "metadata": {
        "colab": {
          "base_uri": "https://localhost:8080/"
        },
        "id": "KdnJwff6W2F9",
        "outputId": "cc32eaef-98c0-44a4-fb98-a863f4117c9a"
      },
      "outputs": [
        {
          "name": "stdout",
          "output_type": "stream",
          "text": [
            "(19, 7)\n"
          ]
        }
      ],
      "source": [
        "print(trump.shape)"
      ]
    },
    {
      "cell_type": "markdown",
      "metadata": {
        "id": "zOZneZfnYWhg"
      },
      "source": [
        "We are now going to select only the transcripts of the speeches and collect them."
      ]
    },
    {
      "cell_type": "code",
      "execution_count": 8,
      "metadata": {
        "colab": {
          "base_uri": "https://localhost:8080/"
        },
        "id": "7BFaKTOgZwR9",
        "outputId": "0ec335db-83e7-40ed-ae96-09663086e41f"
      },
      "outputs": [
        {
          "name": "stdout",
          "output_type": "stream",
          "text": [
            "(58,)\n"
          ]
        }
      ],
      "source": [
        "clinton_speeches = clinton['Transcript'].to_numpy()\n",
        "trump_speeches = trump['Transcript'].to_numpy()\n",
        "all_speeches = np.concatenate((clinton_speeches, trump_speeches))\n",
        "print(all_speeches.shape)"
      ]
    },
    {
      "cell_type": "markdown",
      "metadata": {
        "id": "HISukc3uYeY_"
      },
      "source": [
        "### Preprocessing\n",
        "Transcripts of presidential speeches are almost clean as we also want to keep the punctuation. The only charachters giving problems are the double quote (\") chars. We are going to remove all charachters from \\x00 to \\xff."
      ]
    },
    {
      "cell_type": "code",
      "execution_count": 9,
      "metadata": {
        "id": "ZHUxzTridUZq"
      },
      "outputs": [],
      "source": [
        "def preprocess(data):\n",
        "  # Clean data array\n",
        "  clean_data = []\n",
        "  for i, transcript in enumerate(data):\n",
        "    # Clean the transcript using regular expressions\n",
        "    clean_data.append(re.sub('[^\\x00-\\xff]','', transcript))\n",
        "  return np.array(clean_data)"
      ]
    },
    {
      "cell_type": "markdown",
      "metadata": {
        "id": "1Zk0v6p9Y9ht"
      },
      "source": [
        "The following function merges all the presidential speeches to simplify the follwing passages. This way we can divide in small parts the corpora in a simpler way"
      ]
    },
    {
      "cell_type": "code",
      "execution_count": 10,
      "metadata": {
        "id": "UM6ST_QYlkKL"
      },
      "outputs": [],
      "source": [
        "def join_transcripts(data):\n",
        "  joined = ''\n",
        "  for transcript in data:\n",
        "    joined = joined+' '+transcript\n",
        "  return joined"
      ]
    },
    {
      "cell_type": "markdown",
      "metadata": {
        "id": "G57NE9sJZLPt"
      },
      "source": [
        "Use the functions on datasets"
      ]
    },
    {
      "cell_type": "code",
      "execution_count": 11,
      "metadata": {
        "id": "jex0NYoUTgby"
      },
      "outputs": [],
      "source": [
        "clinton_clean = join_transcripts(preprocess(clinton_speeches))\n",
        "trump_clean = join_transcripts(preprocess(trump_speeches))\n",
        "all_clean = join_transcripts(preprocess(all_speeches))"
      ]
    },
    {
      "cell_type": "markdown",
      "metadata": {
        "id": "KXe-Is0DZN8q"
      },
      "source": [
        "### Char vocabulary generation\n",
        "The following function generates the set of all charachters. The aim is to have a conversion table from char to a numerical id and viceversa."
      ]
    },
    {
      "cell_type": "code",
      "execution_count": 12,
      "metadata": {
        "id": "xgfIflufZwG6"
      },
      "outputs": [],
      "source": [
        "def get_char_vocabulary(data):\n",
        "  # Empty set\n",
        "  vocab = set()\n",
        "  for transcript in data:\n",
        "    # Update the vocabulary set with the new chars from the transcript\n",
        "    vocab.update(set(transcript))\n",
        "  return sorted(vocab)"
      ]
    },
    {
      "cell_type": "markdown",
      "metadata": {
        "id": "9sJog9DiZfHh"
      },
      "source": [
        "Here we generate the vocabulary.\n",
        "\n",
        "We have a total of 80 chars and all of them are alphanumerical, brackets or punctuation symbols. We have some special charachters but no more strange codes or non-trivial chars."
      ]
    },
    {
      "cell_type": "code",
      "execution_count": 13,
      "metadata": {
        "colab": {
          "base_uri": "https://localhost:8080/"
        },
        "id": "h9GdnL5facyC",
        "outputId": "31dd99d6-bb98-4283-883a-306a512fa525"
      },
      "outputs": [
        {
          "name": "stdout",
          "output_type": "stream",
          "text": [
            "Vocabulary has 80 charachters\n",
            "[' ', '!', '\"', '$', \"'\", '(', ')', '*', ',', '-', '.', '/', '0', '1', '2', '3', '4', '5', '6', '7', '8', '9', ':', ';', '?', 'A', 'B', 'C', 'D', 'E', 'F', 'G', 'H', 'I', 'J', 'K', 'L', 'M', 'N', 'O', 'P', 'Q', 'R', 'S', 'T', 'U', 'V', 'W', 'X', 'Y', 'Z', '[', ']', 'a', 'b', 'c', 'd', 'e', 'f', 'g', 'h', 'i', 'j', 'k', 'l', 'm', 'n', 'o', 'p', 'q', 'r', 's', 't', 'u', 'v', 'w', 'x', 'y', 'z', 'é']\n"
          ]
        }
      ],
      "source": [
        "vocab = get_char_vocabulary(all_clean)\n",
        "print(f'Vocabulary has {len(vocab)} charachters')\n",
        "print(vocab)"
      ]
    },
    {
      "cell_type": "markdown",
      "metadata": {
        "id": "eWlgOk4HZ5Cj"
      },
      "source": [
        "In this next step we divide the presidential speeches ensembles into single chars."
      ]
    },
    {
      "cell_type": "code",
      "execution_count": 14,
      "metadata": {
        "id": "hAiRfklecizM"
      },
      "outputs": [],
      "source": [
        "clinton_chars = tf.strings.unicode_split(clinton_clean, input_encoding='UTF-8')\n",
        "trump_chars = tf.strings.unicode_split(trump_clean, input_encoding='UTF-8')\n",
        "all_chars = tf.strings.unicode_split(all_clean, input_encoding='UTF-8')"
      ]
    },
    {
      "cell_type": "markdown",
      "metadata": {
        "id": "0YTfrihIaD9Y"
      },
      "source": [
        "### Char-ids-text conversions\n",
        "The following \"functions\" will be used to convert from char to numerical id and viceversa with an additional function to reconstruct a complete text string from an array of ids."
      ]
    },
    {
      "cell_type": "code",
      "execution_count": 15,
      "metadata": {
        "id": "g9jnkUEVbFeB"
      },
      "outputs": [],
      "source": [
        "# This functions are in reality keras layers that convert strings and ids\n",
        "ids_from_chars = tf.keras.layers.StringLookup(vocabulary=list(vocab), mask_token=None)\n",
        "chars_from_ids = tf.keras.layers.StringLookup(vocabulary=ids_from_chars.get_vocabulary(), invert=True, mask_token=None)\n",
        "# Function for ids to text conversion\n",
        "def text_from_ids(ids):\n",
        "  return tf.strings.reduce_join(chars_from_ids(ids), axis=-1)"
      ]
    },
    {
      "cell_type": "markdown",
      "metadata": {
        "id": "MLCQTi1-ah0p"
      },
      "source": [
        "Generate the ids datasets"
      ]
    },
    {
      "cell_type": "code",
      "execution_count": 16,
      "metadata": {
        "id": "Th6VJtc5iQ5u"
      },
      "outputs": [],
      "source": [
        "clinton_ids = ids_from_chars(clinton_chars)\n",
        "trump_ids = ids_from_chars(trump_chars)\n",
        "all_ids = ids_from_chars(all_chars)"
      ]
    },
    {
      "cell_type": "markdown",
      "metadata": {
        "id": "HoVIkmnEakbF"
      },
      "source": [
        "## Sentences subdivision\n"
      ]
    },
    {
      "cell_type": "code",
      "execution_count": 17,
      "metadata": {
        "colab": {
          "base_uri": "https://localhost:8080/"
        },
        "id": "TxYxd9n2eexk",
        "outputId": "fcfd4ec3-6554-4afc-fd6c-f51dce7542c4"
      },
      "outputs": [
        {
          "name": "stdout",
          "output_type": "stream",
          "text": [
            "Clinton train size: 6467, Clinton validation size: 1142\n",
            "trump train size: 3994, trump validation size: 705\n"
          ]
        }
      ],
      "source": [
        "sentences_length = 100\n",
        "train_split = 0.85\n",
        "clinton_raw = tf.data.Dataset.from_tensor_slices(clinton_ids)\n",
        "clinton_batched = clinton_raw.batch(sentences_length+1, drop_remainder=True)\n",
        "clinton_size = clinton_batched.cardinality().numpy()\n",
        "clinton_train_size = int(clinton_size*train_split)\n",
        "clinton_val_size = clinton_size - clinton_train_size\n",
        "clinton_train_sent = clinton_batched.take(clinton_train_size)\n",
        "clinton_val_sent = clinton_batched.skip(clinton_train_size)\n",
        "print(f\"Clinton train size: {clinton_train_size}, Clinton validation size: {clinton_val_size}\")\n",
        "\n",
        "trump_raw = tf.data.Dataset.from_tensor_slices(trump_ids)\n",
        "trump_batched = trump_raw.batch(sentences_length+1, drop_remainder=True)\n",
        "trump_size = trump_batched.cardinality().numpy()\n",
        "trump_train_size = int(trump_size*train_split)\n",
        "trump_val_size = trump_size - trump_train_size\n",
        "trump_train_sent = trump_batched.take(trump_train_size)\n",
        "trump_val_sent = trump_batched.skip(trump_train_size)\n",
        "print(f\"trump train size: {trump_train_size}, trump validation size: {trump_val_size}\")\n",
        "\n",
        "all_dataset = tf.data.Dataset.from_tensor_slices(all_ids)\n",
        "all_batched = all_dataset.batch(sentences_length+1, drop_remainder=True)"
      ]
    },
    {
      "cell_type": "code",
      "execution_count": 18,
      "metadata": {
        "colab": {
          "base_uri": "https://localhost:8080/"
        },
        "id": "zZvMA-n_mVLx",
        "outputId": "8b448215-b504-48fd-ba76-5c722ba2ef27"
      },
      "outputs": [
        {
          "name": "stdout",
          "output_type": "stream",
          "text": [
            " \n",
            "M\n",
            "y\n",
            " \n",
            "f\n",
            "e\n",
            "l\n",
            "l\n",
            "o\n",
            "w\n"
          ]
        }
      ],
      "source": [
        "for ids in clinton_raw.take(10):\n",
        "    print(chars_from_ids(ids).numpy().decode('utf-8'))"
      ]
    },
    {
      "cell_type": "code",
      "execution_count": 19,
      "metadata": {
        "colab": {
          "base_uri": "https://localhost:8080/"
        },
        "id": "aME3cEyomcUI",
        "outputId": "dcf691ab-e1a4-44c6-ca21-e0b4b6d787a2"
      },
      "outputs": [
        {
          "name": "stdout",
          "output_type": "stream",
          "text": [
            "b' My fellow citizens, today we celebrate the mystery of American renewal. This ceremony is held in the'\n",
            "b' depth of winter, but by the words we speak and the faces we show the world, we force the spring, a s'\n",
            "b\"pring reborn in the world's oldest democracy that brings forth the vision and courage to reinvent Ame\"\n",
            "b\"rica. When our Founders boldly declared America's independence to the world and our purposes to the A\"\n",
            "b\"lmighty, they knew that America, to endure, would have to change; not change for change's sake but ch\"\n"
          ]
        }
      ],
      "source": [
        "for seq in clinton_train_sent.take(5):\n",
        "  print(text_from_ids(seq).numpy())"
      ]
    },
    {
      "cell_type": "code",
      "execution_count": 20,
      "metadata": {
        "id": "mdM-fF_qe6Qw"
      },
      "outputs": [],
      "source": [
        "def split_input_target(sequence):\n",
        "  input_text = sequence[:-1]\n",
        "  target_text = sequence[1:]\n",
        "  return input_text, target_text"
      ]
    },
    {
      "cell_type": "code",
      "execution_count": 21,
      "metadata": {
        "id": "-NYnAnTxfBg3"
      },
      "outputs": [],
      "source": [
        "clinton_train_mapped = clinton_train_sent.map(split_input_target)\n",
        "clinton_val_mapped = clinton_val_sent.map(split_input_target)\n",
        "\n",
        "trump_train_mapped = trump_train_sent.map(split_input_target)\n",
        "trump_val_mapped = trump_val_sent.map(split_input_target)\n",
        "\n",
        "all_data = all_batched.map(split_input_target)"
      ]
    },
    {
      "cell_type": "code",
      "execution_count": 22,
      "metadata": {
        "colab": {
          "base_uri": "https://localhost:8080/"
        },
        "id": "EZIDvIa3m0kc",
        "outputId": "47542901-9b8d-4b5e-d034-4147f7e1452a"
      },
      "outputs": [
        {
          "name": "stdout",
          "output_type": "stream",
          "text": [
            "Input : b' My fellow citizens, today we celebrate the mystery of American renewal. This ceremony is held in th'\n",
            "Target: b'My fellow citizens, today we celebrate the mystery of American renewal. This ceremony is held in the'\n"
          ]
        }
      ],
      "source": [
        "for input_example, target_example in clinton_train_mapped.take(1):\n",
        "    print(\"Input :\", text_from_ids(input_example).numpy())\n",
        "    print(\"Target:\", text_from_ids(target_example).numpy())"
      ]
    },
    {
      "cell_type": "code",
      "execution_count": 23,
      "metadata": {
        "id": "WCRiTppFjPwi"
      },
      "outputs": [],
      "source": [
        "batch_size = 64\n",
        "buffer_size = 10000\n",
        "\n",
        "clinton_train = (clinton_train_mapped.shuffle(buffer_size).batch(batch_size, drop_remainder=True).prefetch(tf.data.experimental.AUTOTUNE))\n",
        "clinton_val = (clinton_val_mapped.shuffle(buffer_size).batch(batch_size, drop_remainder=True).prefetch(tf.data.experimental.AUTOTUNE))\n",
        "\n",
        "trump_train = (trump_train_mapped.shuffle(buffer_size).batch(batch_size, drop_remainder=True).prefetch(tf.data.experimental.AUTOTUNE))\n",
        "trump_val = (trump_val_mapped.shuffle(buffer_size).batch(batch_size, drop_remainder=True).prefetch(tf.data.experimental.AUTOTUNE))\n",
        "\n",
        "all_train = (all_data.shuffle(buffer_size).batch(batch_size, drop_remainder=True).prefetch(tf.data.experimental.AUTOTUNE))"
      ]
    },
    {
      "cell_type": "code",
      "execution_count": 24,
      "metadata": {
        "id": "X2fhDLHHkOqQ"
      },
      "outputs": [],
      "source": [
        "# Length of the vocabulary in chars\n",
        "vocab_size = len(vocab)\n",
        "\n",
        "# The embedding dimension\n",
        "embedding_dim = 128\n",
        "\n",
        "# Number of RNN units\n",
        "rnn_units = 1024"
      ]
    },
    {
      "cell_type": "code",
      "execution_count": 25,
      "metadata": {
        "id": "fiaTVLWykTGN"
      },
      "outputs": [],
      "source": [
        "class CharRNN_GRU(tf.keras.Model):\n",
        "  def __init__(self, vocab_size, embedding_dim, rnn_units, chars_from_ids, ids_from_chars, text_from_ids, temperature=1.0):\n",
        "    super().__init__(self)\n",
        "\n",
        "    self.embedding = tf.keras.layers.Embedding(vocab_size, embedding_dim)\n",
        "    self.GRUs = []\n",
        "    if np.isscalar(rnn_units):\n",
        "      self.GRUs.append(tf.keras.layers.GRU(rnn_units,\n",
        "                                   return_sequences=True,\n",
        "                                   return_state=True))\n",
        "    else:\n",
        "      for i, units in enumerate(rnn_units):\n",
        "        self.GRUs.append(tf.keras.layers.GRU(units,\n",
        "                                   return_sequences=True,\n",
        "                                   return_state=True))\n",
        "    self.dense = tf.keras.layers.Dense(vocab_size)\n",
        "    self.chars_from_ids = chars_from_ids\n",
        "    self.ids_from_chars = ids_from_chars\n",
        "    self.text_from_ids = text_from_ids\n",
        "    self.temperature = temperature\n",
        "\n",
        "    # Create a mask to prevent \"[UNK]\" from being generated.\n",
        "    skip_ids = self.ids_from_chars(['[UNK]'])[:, None]\n",
        "    sparse_mask = tf.SparseTensor(\n",
        "        # Put a -inf at each bad index.\n",
        "        values=[-float('inf')]*len(skip_ids),\n",
        "        indices=skip_ids,\n",
        "        # Match the shape to the vocabulary\n",
        "        dense_shape=[len(ids_from_chars.get_vocabulary())])\n",
        "    self.prediction_mask = tf.sparse.to_dense(sparse_mask)\n",
        "\n",
        "  def call(self, inputs, states=None, return_state=False, training=False):\n",
        "    x = inputs\n",
        "    x = self.embedding(x, training=training)\n",
        "    if states is None:\n",
        "      states = self.GRUs[0].get_initial_state(x)\n",
        "    for i, gru in enumerate(self.GRUs):\n",
        "      x, states = self.GRUs[i](x, initial_state=states, training=training)\n",
        "    x = self.dense(x, training=training)\n",
        "\n",
        "    if return_state:\n",
        "      return x, states\n",
        "    else:\n",
        "      return x\n",
        "  \n",
        "  def generate_one_step(self, inputs, states=None):\n",
        "    # Convert strings to token IDs.\n",
        "    input_chars = tf.strings.unicode_split(inputs, 'UTF-8')\n",
        "    input_ids = self.ids_from_chars(input_chars).to_tensor()\n",
        "\n",
        "    # Run the model.\n",
        "    # predicted_logits.shape is [batch, char, next_char_logits]\n",
        "    predicted_logits, states = self.call(inputs=input_ids, states=states,\n",
        "                                          return_state=True)\n",
        "    # Only use the last prediction.\n",
        "    predicted_logits = predicted_logits[:, -1, :]\n",
        "    predicted_logits = predicted_logits/self.temperature\n",
        "    # Apply the prediction mask: prevent \"[UNK]\" from being generated.\n",
        "    predicted_logits = predicted_logits + self.prediction_mask\n",
        "\n",
        "    # Sample the output logits to generate token IDs.\n",
        "    predicted_ids = tf.random.categorical(predicted_logits, num_samples=1)\n",
        "    predicted_ids = tf.squeeze(predicted_ids, axis=-1)\n",
        "\n",
        "    # Convert from token ids to characters\n",
        "    predicted_chars = self.chars_from_ids(predicted_ids)\n",
        "\n",
        "    # Return the characters and model state.\n",
        "    return predicted_chars, states\n",
        "  \n",
        "  def generate_text(self, text_length, inputs, states=None):\n",
        "    next_char = inputs\n",
        "    result = [next_char]\n",
        "\n",
        "    for n in range(text_length):\n",
        "      next_char, states = self.generate_one_step(next_char, states=states)\n",
        "      result.append(next_char)\n",
        "    \n",
        "    text = tf.strings.join(result)\n",
        "    return text[0].numpy().decode('utf-8')"
      ]
    },
    {
      "cell_type": "code",
      "execution_count": 26,
      "metadata": {
        "id": "LySfpEs-Qwmy"
      },
      "outputs": [],
      "source": [
        "class CharRNN_LSTM(tf.keras.Model):\n",
        "  def __init__(self, vocab_size, embedding_dim, rnn_units, chars_from_ids, ids_from_chars, text_from_ids, temperature=1.0):\n",
        "    super().__init__(self)\n",
        "\n",
        "    self.embedding = tf.keras.layers.Embedding(vocab_size, embedding_dim)\n",
        "    self.LSTMs = []\n",
        "    if np.isscalar(rnn_units):\n",
        "      self.LSTMs.append(tf.keras.layers.LSTM(rnn_units,\n",
        "                                   return_sequences=True,\n",
        "                                   return_state=True))\n",
        "    else:\n",
        "      for i, units in enumerate(rnn_units):\n",
        "        self.LSTMs.append(tf.keras.layers.LSTM(units,\n",
        "                                   return_sequences=True,\n",
        "                                   return_state=True))\n",
        "    self.dense = tf.keras.layers.Dense(vocab_size)\n",
        "    self.chars_from_ids = chars_from_ids\n",
        "    self.ids_from_chars = ids_from_chars\n",
        "    self.text_from_ids = text_from_ids\n",
        "    self.temperature = temperature\n",
        "\n",
        "    # Create a mask to prevent \"[UNK]\" from being generated.\n",
        "    skip_ids = self.ids_from_chars(['[UNK]'])[:, None]\n",
        "    sparse_mask = tf.SparseTensor(\n",
        "        # Put a -inf at each bad index.\n",
        "        values=[-float('inf')]*len(skip_ids),\n",
        "        indices=skip_ids,\n",
        "        # Match the shape to the vocabulary\n",
        "        dense_shape=[len(ids_from_chars.get_vocabulary())])\n",
        "    self.prediction_mask = tf.sparse.to_dense(sparse_mask)\n",
        "\n",
        "  def call(self, inputs, memory_states=None, carry_states=None, return_state=False, training=False):\n",
        "    x = inputs\n",
        "    x = self.embedding(x, training=training)\n",
        "    if memory_states is None or carry_states is None:\n",
        "      memory_states, carry_states = self.LSTMs[0].get_initial_state(x)\n",
        "    for i, lstm in enumerate(self.LSTMs):\n",
        "      x, memory_states, carry_states = self.LSTMs[i](x, initial_state=[memory_states, carry_states], training=training)\n",
        "    x = self.dense(x, training=training)\n",
        "\n",
        "    if return_state:\n",
        "      return x, memory_states, carry_states\n",
        "    else:\n",
        "      return x\n",
        "  \n",
        "  def generate_one_step(self, inputs, memory_states=None, carry_states=None):\n",
        "    # Convert strings to token IDs.\n",
        "    input_chars = tf.strings.unicode_split(inputs, 'UTF-8')\n",
        "    input_ids = self.ids_from_chars(input_chars).to_tensor()\n",
        "\n",
        "    # Run the model.\n",
        "    # predicted_logits.shape is [batch, char, next_char_logits]\n",
        "    predicted_logits, memory_states, carry_states = self.call(inputs=input_ids, memory_states=memory_states,\n",
        "                                          carry_states=carry_states, return_state=True)\n",
        "    \n",
        "    # Only use the last prediction.\n",
        "    predicted_logits = predicted_logits[:, -1, :]\n",
        "    predicted_logits = predicted_logits/self.temperature\n",
        "    # Apply the prediction mask: prevent \"[UNK]\" from being generated.\n",
        "    predicted_logits = predicted_logits + self.prediction_mask\n",
        "\n",
        "    # Sample the output logits to generate token IDs.\n",
        "    predicted_ids = tf.random.categorical(predicted_logits, num_samples=1)\n",
        "    predicted_ids = tf.squeeze(predicted_ids, axis=-1)\n",
        "\n",
        "    # Convert from token ids to characters\n",
        "    predicted_chars = self.chars_from_ids(predicted_ids)\n",
        "\n",
        "    # Return the characters and model state.\n",
        "    return predicted_chars, memory_states, carry_states\n",
        "  \n",
        "  def generate_text(self, text_length, inputs, memory_states=None, carry_states=None):\n",
        "    next_char = inputs\n",
        "    result = [next_char]\n",
        "\n",
        "    for n in range(text_length):\n",
        "      next_char, memory_states, carry_states = self.generate_one_step(next_char, memory_states=memory_states, carry_states=carry_states)\n",
        "      result.append(next_char)\n",
        "    \n",
        "    text = tf.strings.join(result)\n",
        "    return text[0].numpy().decode('utf-8')"
      ]
    },
    {
      "cell_type": "code",
      "execution_count": 27,
      "metadata": {
        "id": "jP6UOjZeedeZ"
      },
      "outputs": [],
      "source": [
        "epochs = 50"
      ]
    },
    {
      "cell_type": "markdown",
      "metadata": {
        "id": "St_RjAC4f6Y-"
      },
      "source": [
        "## Clinton GRU model"
      ]
    },
    {
      "cell_type": "code",
      "execution_count": 28,
      "metadata": {
        "id": "LQFw-8X2ke_t"
      },
      "outputs": [],
      "source": [
        "clinton_GRU = CharRNN_GRU(\n",
        "    # Be sure the vocabulary size matches the `StringLookup` layers.\n",
        "    vocab_size=len(ids_from_chars.get_vocabulary()),\n",
        "    embedding_dim=embedding_dim,\n",
        "    rnn_units=rnn_units,\n",
        "    chars_from_ids=chars_from_ids,\n",
        "    ids_from_chars=ids_from_chars,\n",
        "    text_from_ids=text_from_ids)\n",
        "\n",
        "loss = tf.losses.SparseCategoricalCrossentropy(from_logits=True)\n",
        "clinton_GRU.compile(optimizer='adam', loss=loss)\n",
        "\n",
        "# Directory where the checkpoints will be saved\n",
        "checkpoint_dir = './clinton_GRU_training_checkpoints'\n",
        "# Name of the checkpoint files\n",
        "checkpoint_prefix = os.path.join(checkpoint_dir, \"ckpt_{epoch}\")\n",
        "\n",
        "clinton_GRU_checkpoint_callback = tf.keras.callbacks.ModelCheckpoint(\n",
        "    filepath=checkpoint_prefix,\n",
        "    save_weights_only=True)\n",
        "\n",
        "# Log directory for tensorboard\n",
        "log_dir = \"./logs/fit/\" + \"clinton_GRU\"\n",
        "# Define the tensorboard callback\n",
        "tensorboard_callback = tf.keras.callbacks.TensorBoard(log_dir=log_dir, histogram_freq=1)"
      ]
    },
    {
      "cell_type": "code",
      "execution_count": 29,
      "metadata": {
        "colab": {
          "base_uri": "https://localhost:8080/"
        },
        "id": "qjfVXOlZk6YL",
        "outputId": "67a9e601-f860-4747-d76d-2dfc1f35f031"
      },
      "outputs": [
        {
          "name": "stdout",
          "output_type": "stream",
          "text": [
            "Epoch 1/50\n",
            "101/101 [==============================] - 56s 437ms/step - loss: 3.0128 - val_loss: 2.4230\n",
            "Epoch 2/50\n",
            "101/101 [==============================] - 57s 536ms/step - loss: 2.2467 - val_loss: 2.1534\n",
            "Epoch 3/50\n",
            "101/101 [==============================] - 43s 413ms/step - loss: 1.9830 - val_loss: 1.8962\n",
            "Epoch 4/50\n",
            "101/101 [==============================] - 39s 373ms/step - loss: 1.7417 - val_loss: 1.6787\n",
            "Epoch 5/50\n",
            "101/101 [==============================] - 59s 560ms/step - loss: 1.5498 - val_loss: 1.5301\n",
            "Epoch 6/50\n",
            "101/101 [==============================] - 61s 578ms/step - loss: 1.4115 - val_loss: 1.4183\n",
            "Epoch 7/50\n",
            "101/101 [==============================] - 61s 578ms/step - loss: 1.3117 - val_loss: 1.3555\n",
            "Epoch 8/50\n",
            "101/101 [==============================] - 47s 445ms/step - loss: 1.2376 - val_loss: 1.3151\n",
            "Epoch 9/50\n",
            "101/101 [==============================] - 41s 391ms/step - loss: 1.1792 - val_loss: 1.2816\n",
            "Epoch 10/50\n",
            "101/101 [==============================] - 60s 575ms/step - loss: 1.1284 - val_loss: 1.2613\n",
            "Epoch 11/50\n",
            "101/101 [==============================] - 48s 462ms/step - loss: 1.0831 - val_loss: 1.2519\n",
            "Epoch 12/50\n",
            "101/101 [==============================] - 42s 398ms/step - loss: 1.0409 - val_loss: 1.2514\n",
            "Epoch 13/50\n",
            "101/101 [==============================] - 43s 410ms/step - loss: 0.9990 - val_loss: 1.2464\n",
            "Epoch 14/50\n",
            "101/101 [==============================] - 40s 382ms/step - loss: 0.9566 - val_loss: 1.2428\n",
            "Epoch 15/50\n",
            "101/101 [==============================] - 54s 505ms/step - loss: 0.9149 - val_loss: 1.2555\n",
            "Epoch 16/50\n",
            "101/101 [==============================] - 43s 405ms/step - loss: 0.8698 - val_loss: 1.2668\n",
            "Epoch 17/50\n",
            "101/101 [==============================] - 43s 406ms/step - loss: 0.8245 - val_loss: 1.2921\n",
            "Epoch 18/50\n",
            "101/101 [==============================] - 49s 458ms/step - loss: 0.7765 - val_loss: 1.3143\n",
            "Epoch 19/50\n",
            "101/101 [==============================] - 53s 493ms/step - loss: 0.7294 - val_loss: 1.3495\n",
            "Epoch 20/50\n",
            "101/101 [==============================] - 61s 587ms/step - loss: 0.6788 - val_loss: 1.3822\n",
            "Epoch 21/50\n",
            "101/101 [==============================] - 47s 450ms/step - loss: 0.6289 - val_loss: 1.4236\n",
            "Epoch 22/50\n",
            "101/101 [==============================] - 62s 581ms/step - loss: 0.5805 - val_loss: 1.4637\n",
            "Epoch 23/50\n",
            "101/101 [==============================] - 53s 508ms/step - loss: 0.5333 - val_loss: 1.5173\n",
            "Epoch 24/50\n",
            "101/101 [==============================] - 53s 505ms/step - loss: 0.4881 - val_loss: 1.5583\n",
            "Epoch 25/50\n",
            "101/101 [==============================] - 45s 432ms/step - loss: 0.4441 - val_loss: 1.6117\n",
            "Epoch 26/50\n",
            "101/101 [==============================] - 41s 389ms/step - loss: 0.4076 - val_loss: 1.6596\n",
            "Epoch 27/50\n",
            "101/101 [==============================] - 36s 349ms/step - loss: 0.3751 - val_loss: 1.7193\n",
            "Epoch 28/50\n",
            "101/101 [==============================] - 50s 469ms/step - loss: 0.3462 - val_loss: 1.7578\n",
            "Epoch 29/50\n",
            "101/101 [==============================] - 53s 511ms/step - loss: 0.3227 - val_loss: 1.8095\n",
            "Epoch 30/50\n",
            "101/101 [==============================] - 38s 364ms/step - loss: 0.3004 - val_loss: 1.8588\n",
            "Epoch 31/50\n",
            "101/101 [==============================] - 51s 469ms/step - loss: 0.2846 - val_loss: 1.8946\n",
            "Epoch 32/50\n",
            "101/101 [==============================] - 39s 371ms/step - loss: 0.2687 - val_loss: 1.9456\n",
            "Epoch 33/50\n",
            "101/101 [==============================] - 51s 487ms/step - loss: 0.2557 - val_loss: 1.9743\n",
            "Epoch 34/50\n",
            "101/101 [==============================] - 42s 405ms/step - loss: 0.2478 - val_loss: 2.0204\n",
            "Epoch 35/50\n",
            "101/101 [==============================] - 38s 366ms/step - loss: 0.2432 - val_loss: 2.0463\n",
            "Epoch 36/50\n",
            "101/101 [==============================] - 52s 499ms/step - loss: 0.2337 - val_loss: 2.0849\n",
            "Epoch 37/50\n",
            "101/101 [==============================] - 51s 482ms/step - loss: 0.2257 - val_loss: 2.1155\n",
            "Epoch 38/50\n",
            "101/101 [==============================] - 53s 509ms/step - loss: 0.2216 - val_loss: 2.1552\n",
            "Epoch 39/50\n",
            "101/101 [==============================] - 55s 500ms/step - loss: 0.2205 - val_loss: 2.1692\n",
            "Epoch 40/50\n",
            "101/101 [==============================] - 38s 362ms/step - loss: 0.2198 - val_loss: 2.1975\n",
            "Epoch 41/50\n",
            "101/101 [==============================] - 53s 492ms/step - loss: 0.2204 - val_loss: 2.2217\n",
            "Epoch 42/50\n",
            "101/101 [==============================] - 41s 398ms/step - loss: 0.2221 - val_loss: 2.2419\n",
            "Epoch 43/50\n",
            "101/101 [==============================] - 38s 361ms/step - loss: 0.2227 - val_loss: 2.2485\n",
            "Epoch 44/50\n",
            "101/101 [==============================] - 52s 490ms/step - loss: 0.2243 - val_loss: 2.2721\n",
            "Epoch 45/50\n",
            "101/101 [==============================] - 43s 408ms/step - loss: 0.2205 - val_loss: 2.3008\n",
            "Epoch 46/50\n",
            "101/101 [==============================] - 60s 572ms/step - loss: 0.2179 - val_loss: 2.3150\n",
            "Epoch 47/50\n",
            "101/101 [==============================] - 50s 473ms/step - loss: 0.2180 - val_loss: 2.3376\n",
            "Epoch 48/50\n",
            "101/101 [==============================] - 47s 452ms/step - loss: 0.2126 - val_loss: 2.3425\n",
            "Epoch 49/50\n",
            "101/101 [==============================] - 43s 405ms/step - loss: 0.2118 - val_loss: 2.3643\n",
            "Epoch 50/50\n",
            "101/101 [==============================] - 63s 596ms/step - loss: 0.2073 - val_loss: 2.3853\n"
          ]
        }
      ],
      "source": [
        "clinton_GRU_history = clinton_GRU.fit(clinton_train, epochs=epochs, callbacks=[clinton_GRU_checkpoint_callback, tensorboard_callback], validation_data=clinton_val)"
      ]
    },
    {
      "cell_type": "markdown",
      "metadata": {
        "id": "n8PLtjKzf3ZZ"
      },
      "source": [
        "## Clinton LSTM model"
      ]
    },
    {
      "cell_type": "code",
      "execution_count": 30,
      "metadata": {
        "id": "0Oscb3mJfdry"
      },
      "outputs": [],
      "source": [
        "clinton_LSTM = CharRNN_LSTM(\n",
        "    # Be sure the vocabulary size matches the `StringLookup` layers.\n",
        "    vocab_size=len(ids_from_chars.get_vocabulary()),\n",
        "    embedding_dim=embedding_dim,\n",
        "    rnn_units=rnn_units,\n",
        "    chars_from_ids=chars_from_ids,\n",
        "    ids_from_chars=ids_from_chars,\n",
        "    text_from_ids=text_from_ids)\n",
        "\n",
        "loss = tf.losses.SparseCategoricalCrossentropy(from_logits=True)\n",
        "clinton_LSTM.compile(optimizer='adam', loss=loss)\n",
        "\n",
        "# Directory where the checkpoints will be saved\n",
        "checkpoint_dir = './clinton_LSTM_training_checkpoints'\n",
        "# Name of the checkpoint files\n",
        "checkpoint_prefix = os.path.join(checkpoint_dir, \"ckpt_{epoch}\")\n",
        "\n",
        "clinton_LSTM_checkpoint_callback = tf.keras.callbacks.ModelCheckpoint(\n",
        "    filepath=checkpoint_prefix,\n",
        "    save_weights_only=True)\n",
        "\n",
        "# Log directory for tensorboard\n",
        "log_dir = \"./logs/fit/\" + \"clinton_LSTM\"\n",
        "# Define the tensorboard callback\n",
        "tensorboard_callback = tf.keras.callbacks.TensorBoard(log_dir=log_dir, histogram_freq=1)"
      ]
    },
    {
      "cell_type": "code",
      "execution_count": 31,
      "metadata": {
        "id": "Wkj4jn9sf16y"
      },
      "outputs": [
        {
          "name": "stdout",
          "output_type": "stream",
          "text": [
            "Epoch 1/50\n",
            "101/101 [==============================] - 84s 721ms/step - loss: 3.0015 - val_loss: 2.6060\n",
            "Epoch 2/50\n",
            "101/101 [==============================] - 77s 741ms/step - loss: 2.3815 - val_loss: 2.3006\n",
            "Epoch 3/50\n",
            "101/101 [==============================] - 78s 748ms/step - loss: 2.1489 - val_loss: 2.0856\n",
            "Epoch 4/50\n",
            "101/101 [==============================] - 80s 769ms/step - loss: 1.9505 - val_loss: 1.9054\n",
            "Epoch 5/50\n",
            "101/101 [==============================] - 57s 552ms/step - loss: 1.7804 - val_loss: 1.7461\n",
            "Epoch 6/50\n",
            "101/101 [==============================] - 74s 718ms/step - loss: 1.6356 - val_loss: 1.6246\n",
            "Epoch 7/50\n",
            "101/101 [==============================] - 76s 724ms/step - loss: 1.5207 - val_loss: 1.5300\n",
            "Epoch 8/50\n",
            "101/101 [==============================] - 77s 722ms/step - loss: 1.4334 - val_loss: 1.4586\n",
            "Epoch 9/50\n",
            "101/101 [==============================] - 81s 773ms/step - loss: 1.3634 - val_loss: 1.4050\n",
            "Epoch 10/50\n",
            "101/101 [==============================] - 82s 787ms/step - loss: 1.3066 - val_loss: 1.3611\n",
            "Epoch 11/50\n",
            "101/101 [==============================] - 87s 834ms/step - loss: 1.2605 - val_loss: 1.3262\n",
            "Epoch 12/50\n",
            "101/101 [==============================] - 63s 603ms/step - loss: 1.2209 - val_loss: 1.2978\n",
            "Epoch 13/50\n",
            "101/101 [==============================] - 79s 765ms/step - loss: 1.1864 - val_loss: 1.2787\n",
            "Epoch 14/50\n",
            "101/101 [==============================] - 82s 792ms/step - loss: 1.1563 - val_loss: 1.2712\n",
            "Epoch 15/50\n",
            "101/101 [==============================] - 56s 534ms/step - loss: 1.1286 - val_loss: 1.2553\n",
            "Epoch 16/50\n",
            "101/101 [==============================] - 71s 663ms/step - loss: 1.1029 - val_loss: 1.2476\n",
            "Epoch 17/50\n",
            "101/101 [==============================] - 70s 666ms/step - loss: 1.0778 - val_loss: 1.2317\n",
            "Epoch 18/50\n",
            "101/101 [==============================] - 64s 622ms/step - loss: 1.0524 - val_loss: 1.2304\n",
            "Epoch 19/50\n",
            "101/101 [==============================] - 68s 668ms/step - loss: 1.0291 - val_loss: 1.2260\n",
            "Epoch 20/50\n",
            "101/101 [==============================] - 61s 597ms/step - loss: 1.0047 - val_loss: 1.2250\n",
            "Epoch 21/50\n",
            "101/101 [==============================] - 62s 609ms/step - loss: 0.9810 - val_loss: 1.2287\n",
            "Epoch 22/50\n",
            "101/101 [==============================] - 69s 657ms/step - loss: 0.9563 - val_loss: 1.2247\n",
            "Epoch 23/50\n",
            "101/101 [==============================] - 70s 681ms/step - loss: 0.9311 - val_loss: 1.2297\n",
            "Epoch 24/50\n",
            "101/101 [==============================] - 61s 594ms/step - loss: 0.9055 - val_loss: 1.2358\n",
            "Epoch 25/50\n",
            "101/101 [==============================] - 71s 690ms/step - loss: 0.8789 - val_loss: 1.2465\n",
            "Epoch 26/50\n",
            "101/101 [==============================] - 67s 654ms/step - loss: 0.8503 - val_loss: 1.2594\n",
            "Epoch 27/50\n",
            "101/101 [==============================] - 65s 632ms/step - loss: 0.8222 - val_loss: 1.2647\n",
            "Epoch 28/50\n",
            "101/101 [==============================] - 53s 519ms/step - loss: 0.7912 - val_loss: 1.2860\n",
            "Epoch 29/50\n",
            "101/101 [==============================] - 59s 574ms/step - loss: 0.7602 - val_loss: 1.2988\n",
            "Epoch 30/50\n",
            "101/101 [==============================] - 55s 532ms/step - loss: 0.7286 - val_loss: 1.3204\n",
            "Epoch 31/50\n",
            "101/101 [==============================] - 53s 515ms/step - loss: 0.6943 - val_loss: 1.3404\n",
            "Epoch 32/50\n",
            "101/101 [==============================] - 72s 686ms/step - loss: 0.6617 - val_loss: 1.3664\n",
            "Epoch 33/50\n",
            "101/101 [==============================] - 64s 622ms/step - loss: 0.6262 - val_loss: 1.3911\n",
            "Epoch 34/50\n",
            "101/101 [==============================] - 51s 493ms/step - loss: 0.5916 - val_loss: 1.4217\n",
            "Epoch 35/50\n",
            "101/101 [==============================] - 55s 530ms/step - loss: 0.5574 - val_loss: 1.4537\n",
            "Epoch 36/50\n",
            "101/101 [==============================] - 51s 493ms/step - loss: 0.5219 - val_loss: 1.4891\n",
            "Epoch 37/50\n",
            "101/101 [==============================] - 78s 751ms/step - loss: 0.4902 - val_loss: 1.5234\n",
            "Epoch 38/50\n",
            "101/101 [==============================] - 66s 635ms/step - loss: 0.4592 - val_loss: 1.5562\n",
            "Epoch 39/50\n",
            "101/101 [==============================] - 57s 557ms/step - loss: 0.4261 - val_loss: 1.5935\n",
            "Epoch 40/50\n",
            "101/101 [==============================] - 57s 545ms/step - loss: 0.3982 - val_loss: 1.6278\n",
            "Epoch 41/50\n",
            "101/101 [==============================] - 70s 667ms/step - loss: 0.3715 - val_loss: 1.6670\n",
            "Epoch 42/50\n",
            "101/101 [==============================] - 58s 559ms/step - loss: 0.3450 - val_loss: 1.7071\n",
            "Epoch 43/50\n",
            "101/101 [==============================] - 73s 689ms/step - loss: 0.3182 - val_loss: 1.7548\n",
            "Epoch 44/50\n",
            "101/101 [==============================] - 59s 571ms/step - loss: 0.2951 - val_loss: 1.7853\n",
            "Epoch 45/50\n",
            "101/101 [==============================] - 59s 571ms/step - loss: 0.2757 - val_loss: 1.8122\n",
            "Epoch 46/50\n",
            "101/101 [==============================] - 53s 515ms/step - loss: 0.2570 - val_loss: 1.8653\n",
            "Epoch 47/50\n",
            "101/101 [==============================] - 48s 464ms/step - loss: 0.2385 - val_loss: 1.9004\n",
            "Epoch 48/50\n",
            "101/101 [==============================] - 50s 487ms/step - loss: 0.2235 - val_loss: 1.9234\n",
            "Epoch 49/50\n",
            "101/101 [==============================] - 65s 625ms/step - loss: 0.2101 - val_loss: 1.9661\n",
            "Epoch 50/50\n",
            "101/101 [==============================] - 67s 652ms/step - loss: 0.1948 - val_loss: 1.9976\n"
          ]
        }
      ],
      "source": [
        "clinton_LSTM_history = clinton_LSTM.fit(clinton_train, epochs=epochs, callbacks=[clinton_LSTM_checkpoint_callback, tensorboard_callback], validation_data=clinton_val)"
      ]
    },
    {
      "cell_type": "markdown",
      "metadata": {
        "id": "i3iqhuofgAx1"
      },
      "source": [
        "## Trump GRU model"
      ]
    },
    {
      "cell_type": "code",
      "execution_count": 32,
      "metadata": {
        "id": "Ku0vJViRgAVn"
      },
      "outputs": [],
      "source": [
        "trump_GRU = CharRNN_GRU(\n",
        "    # Be sure the vocabulary size matches the `StringLookup` layers.\n",
        "    vocab_size=len(ids_from_chars.get_vocabulary()),\n",
        "    embedding_dim=embedding_dim,\n",
        "    rnn_units=rnn_units,\n",
        "    chars_from_ids=chars_from_ids,\n",
        "    ids_from_chars=ids_from_chars,\n",
        "    text_from_ids=text_from_ids)\n",
        "\n",
        "loss = tf.losses.SparseCategoricalCrossentropy(from_logits=True)\n",
        "trump_GRU.compile(optimizer='adam', loss=loss)\n",
        "\n",
        "# Directory where the checkpoints will be saved\n",
        "checkpoint_dir = './trump_GRU_training_checkpoints'\n",
        "# Name of the checkpoint files\n",
        "checkpoint_prefix = os.path.join(checkpoint_dir, \"ckpt_{epoch}\")\n",
        "\n",
        "trump_GRU_checkpoint_callback = tf.keras.callbacks.ModelCheckpoint(\n",
        "    filepath=checkpoint_prefix,\n",
        "    save_weights_only=True)\n",
        "\n",
        "# Log directory for tensorboard\n",
        "log_dir = \"./logs/fit/\" + \"trump_GRU\"\n",
        "# Define the tensorboard callback\n",
        "tensorboard_callback = tf.keras.callbacks.TensorBoard(log_dir=log_dir, histogram_freq=1)"
      ]
    },
    {
      "cell_type": "code",
      "execution_count": 33,
      "metadata": {
        "id": "3545x9GLgAJx"
      },
      "outputs": [
        {
          "name": "stdout",
          "output_type": "stream",
          "text": [
            "Epoch 1/50\n",
            "62/62 [==============================] - 33s 402ms/step - loss: 3.4070 - val_loss: 2.7530\n",
            "Epoch 2/50\n",
            "62/62 [==============================] - 22s 350ms/step - loss: 2.4783 - val_loss: 2.3569\n",
            "Epoch 3/50\n",
            "62/62 [==============================] - 22s 334ms/step - loss: 2.2573 - val_loss: 2.2067\n",
            "Epoch 4/50\n",
            "62/62 [==============================] - 20s 313ms/step - loss: 2.0927 - val_loss: 2.0538\n",
            "Epoch 5/50\n",
            "62/62 [==============================] - 23s 354ms/step - loss: 1.9278 - val_loss: 1.9099\n",
            "Epoch 6/50\n",
            "62/62 [==============================] - 27s 430ms/step - loss: 1.7826 - val_loss: 1.7897\n",
            "Epoch 7/50\n",
            "62/62 [==============================] - 25s 387ms/step - loss: 1.6536 - val_loss: 1.6829\n",
            "Epoch 8/50\n",
            "62/62 [==============================] - 25s 387ms/step - loss: 1.5406 - val_loss: 1.6016\n",
            "Epoch 9/50\n",
            "62/62 [==============================] - 24s 383ms/step - loss: 1.4458 - val_loss: 1.5367\n",
            "Epoch 10/50\n",
            "62/62 [==============================] - 31s 485ms/step - loss: 1.3625 - val_loss: 1.4864\n",
            "Epoch 11/50\n",
            "62/62 [==============================] - 26s 406ms/step - loss: 1.2920 - val_loss: 1.4424\n",
            "Epoch 12/50\n",
            "62/62 [==============================] - 24s 371ms/step - loss: 1.2304 - val_loss: 1.4175\n",
            "Epoch 13/50\n",
            "62/62 [==============================] - 25s 390ms/step - loss: 1.1752 - val_loss: 1.4043\n",
            "Epoch 14/50\n",
            "62/62 [==============================] - 28s 430ms/step - loss: 1.1229 - val_loss: 1.3856\n",
            "Epoch 15/50\n",
            "62/62 [==============================] - 31s 482ms/step - loss: 1.0699 - val_loss: 1.3832\n",
            "Epoch 16/50\n",
            "62/62 [==============================] - 25s 395ms/step - loss: 1.0209 - val_loss: 1.3862\n",
            "Epoch 17/50\n",
            "62/62 [==============================] - 24s 373ms/step - loss: 0.9713 - val_loss: 1.3898\n",
            "Epoch 18/50\n",
            "62/62 [==============================] - 23s 353ms/step - loss: 0.9220 - val_loss: 1.4071\n",
            "Epoch 19/50\n",
            "62/62 [==============================] - 31s 468ms/step - loss: 0.8716 - val_loss: 1.4274\n",
            "Epoch 20/50\n",
            "62/62 [==============================] - 30s 465ms/step - loss: 0.8185 - val_loss: 1.4519\n",
            "Epoch 21/50\n",
            "62/62 [==============================] - 27s 418ms/step - loss: 0.7636 - val_loss: 1.4772\n",
            "Epoch 22/50\n",
            "62/62 [==============================] - 33s 506ms/step - loss: 0.7051 - val_loss: 1.5198\n",
            "Epoch 23/50\n",
            "62/62 [==============================] - 28s 434ms/step - loss: 0.6506 - val_loss: 1.5545\n",
            "Epoch 24/50\n",
            "62/62 [==============================] - 32s 498ms/step - loss: 0.5919 - val_loss: 1.6068\n",
            "Epoch 25/50\n",
            "62/62 [==============================] - 26s 413ms/step - loss: 0.5363 - val_loss: 1.6555\n",
            "Epoch 26/50\n",
            "62/62 [==============================] - 25s 387ms/step - loss: 0.4815 - val_loss: 1.7150\n",
            "Epoch 27/50\n",
            "62/62 [==============================] - 31s 487ms/step - loss: 0.4310 - val_loss: 1.7671\n",
            "Epoch 28/50\n",
            "62/62 [==============================] - 32s 505ms/step - loss: 0.3829 - val_loss: 1.8331\n",
            "Epoch 29/50\n",
            "62/62 [==============================] - 27s 422ms/step - loss: 0.3412 - val_loss: 1.8954\n",
            "Epoch 30/50\n",
            "62/62 [==============================] - 24s 368ms/step - loss: 0.3028 - val_loss: 1.9516\n",
            "Epoch 31/50\n",
            "62/62 [==============================] - 23s 351ms/step - loss: 0.2722 - val_loss: 2.0070\n",
            "Epoch 32/50\n",
            "62/62 [==============================] - 22s 341ms/step - loss: 0.2448 - val_loss: 2.0607\n",
            "Epoch 33/50\n",
            "62/62 [==============================] - 22s 335ms/step - loss: 0.2206 - val_loss: 2.1156\n",
            "Epoch 34/50\n",
            "62/62 [==============================] - 31s 486ms/step - loss: 0.1993 - val_loss: 2.1638\n",
            "Epoch 35/50\n",
            "62/62 [==============================] - 33s 513ms/step - loss: 0.1828 - val_loss: 2.2140\n",
            "Epoch 36/50\n",
            "62/62 [==============================] - 33s 512ms/step - loss: 0.1678 - val_loss: 2.2637\n",
            "Epoch 37/50\n",
            "62/62 [==============================] - 33s 515ms/step - loss: 0.1565 - val_loss: 2.3050\n",
            "Epoch 38/50\n",
            "62/62 [==============================] - 30s 473ms/step - loss: 0.1440 - val_loss: 2.3488\n",
            "Epoch 39/50\n",
            "62/62 [==============================] - 23s 367ms/step - loss: 0.1353 - val_loss: 2.3870\n",
            "Epoch 40/50\n",
            "62/62 [==============================] - 23s 368ms/step - loss: 0.1284 - val_loss: 2.4204\n",
            "Epoch 41/50\n",
            "62/62 [==============================] - 22s 341ms/step - loss: 0.1235 - val_loss: 2.4589\n",
            "Epoch 42/50\n",
            "62/62 [==============================] - 23s 353ms/step - loss: 0.1205 - val_loss: 2.4836\n",
            "Epoch 43/50\n",
            "62/62 [==============================] - 23s 368ms/step - loss: 0.1164 - val_loss: 2.5033\n",
            "Epoch 44/50\n",
            "62/62 [==============================] - 22s 343ms/step - loss: 0.1150 - val_loss: 2.5337\n",
            "Epoch 45/50\n",
            "62/62 [==============================] - 28s 434ms/step - loss: 0.1147 - val_loss: 2.5593\n",
            "Epoch 46/50\n",
            "62/62 [==============================] - 27s 430ms/step - loss: 0.1161 - val_loss: 2.5822\n",
            "Epoch 47/50\n",
            "62/62 [==============================] - 34s 518ms/step - loss: 0.1215 - val_loss: 2.6222\n",
            "Epoch 48/50\n",
            "62/62 [==============================] - 28s 436ms/step - loss: 0.1362 - val_loss: 2.6245\n",
            "Epoch 49/50\n",
            "62/62 [==============================] - 25s 387ms/step - loss: 0.1668 - val_loss: 2.6264\n",
            "Epoch 50/50\n",
            "62/62 [==============================] - 25s 390ms/step - loss: 0.2131 - val_loss: 2.6273\n"
          ]
        }
      ],
      "source": [
        "trump_GRU_history = trump_GRU.fit(trump_train, epochs=epochs, callbacks=[trump_GRU_checkpoint_callback, tensorboard_callback], validation_data=trump_val)"
      ]
    },
    {
      "cell_type": "markdown",
      "metadata": {
        "id": "8HH34h68gFXZ"
      },
      "source": [
        "## Trump LSTM model"
      ]
    },
    {
      "cell_type": "code",
      "execution_count": 34,
      "metadata": {
        "id": "62Qmcg-mf2Vy"
      },
      "outputs": [],
      "source": [
        "trump_LSTM = CharRNN_LSTM(\n",
        "    # Be sure the vocabulary size matches the `StringLookup` layers.\n",
        "    vocab_size=len(ids_from_chars.get_vocabulary()),\n",
        "    embedding_dim=embedding_dim,\n",
        "    rnn_units=rnn_units,\n",
        "    chars_from_ids=chars_from_ids,\n",
        "    ids_from_chars=ids_from_chars,\n",
        "    text_from_ids=text_from_ids)\n",
        "\n",
        "loss = tf.losses.SparseCategoricalCrossentropy(from_logits=True)\n",
        "trump_LSTM.compile(optimizer='adam', loss=loss)\n",
        "\n",
        "# Directory where the checkpoints will be saved\n",
        "checkpoint_dir = './trump_LSTM_training_checkpoints'\n",
        "# Name of the checkpoint files\n",
        "checkpoint_prefix = os.path.join(checkpoint_dir, \"ckpt_{epoch}\")\n",
        "\n",
        "trump_LSTM_checkpoint_callback = tf.keras.callbacks.ModelCheckpoint(\n",
        "    filepath=checkpoint_prefix,\n",
        "    save_weights_only=True)\n",
        "\n",
        "# Log directory for tensorboard\n",
        "log_dir = \"./logs/fit/\" + \"trump_LSTM\"\n",
        "# Define the tensorboard callback\n",
        "tensorboard_callback = tf.keras.callbacks.TensorBoard(log_dir=log_dir, histogram_freq=1)"
      ]
    },
    {
      "cell_type": "code",
      "execution_count": 35,
      "metadata": {
        "id": "o7UX0bkZf2lg"
      },
      "outputs": [
        {
          "name": "stdout",
          "output_type": "stream",
          "text": [
            "Epoch 1/50\n",
            "62/62 [==============================] - 43s 552ms/step - loss: 3.2205 - val_loss: 2.9438\n",
            "Epoch 2/50\n",
            "62/62 [==============================] - 35s 550ms/step - loss: 2.6690 - val_loss: 2.4634\n",
            "Epoch 3/50\n",
            "62/62 [==============================] - 36s 555ms/step - loss: 2.3579 - val_loss: 2.2896\n",
            "Epoch 4/50\n",
            "62/62 [==============================] - 36s 575ms/step - loss: 2.1925 - val_loss: 2.1435\n",
            "Epoch 5/50\n",
            "62/62 [==============================] - 42s 649ms/step - loss: 2.0366 - val_loss: 2.0162\n",
            "Epoch 6/50\n",
            "62/62 [==============================] - 26s 381ms/step - loss: 1.9024 - val_loss: 1.8955\n",
            "Epoch 7/50\n",
            "62/62 [==============================] - 31s 493ms/step - loss: 1.7828 - val_loss: 1.8015\n",
            "Epoch 8/50\n",
            "62/62 [==============================] - 32s 510ms/step - loss: 1.6771 - val_loss: 1.7105\n",
            "Epoch 9/50\n",
            "62/62 [==============================] - 38s 579ms/step - loss: 1.5826 - val_loss: 1.6378\n",
            "Epoch 10/50\n",
            "62/62 [==============================] - 38s 597ms/step - loss: 1.5038 - val_loss: 1.5778\n",
            "Epoch 11/50\n",
            "62/62 [==============================] - 40s 631ms/step - loss: 1.4330 - val_loss: 1.5238\n",
            "Epoch 12/50\n",
            "62/62 [==============================] - 24s 377ms/step - loss: 1.3720 - val_loss: 1.4813\n",
            "Epoch 13/50\n",
            "62/62 [==============================] - 29s 465ms/step - loss: 1.3212 - val_loss: 1.4532\n",
            "Epoch 14/50\n",
            "62/62 [==============================] - 35s 556ms/step - loss: 1.2730 - val_loss: 1.4260\n",
            "Epoch 15/50\n",
            "62/62 [==============================] - 35s 537ms/step - loss: 1.2288 - val_loss: 1.4006\n",
            "Epoch 16/50\n",
            "62/62 [==============================] - 38s 597ms/step - loss: 1.1899 - val_loss: 1.3868\n",
            "Epoch 17/50\n",
            "62/62 [==============================] - 36s 568ms/step - loss: 1.1534 - val_loss: 1.3743\n",
            "Epoch 18/50\n",
            "62/62 [==============================] - 40s 626ms/step - loss: 1.1179 - val_loss: 1.3637\n",
            "Epoch 19/50\n",
            "62/62 [==============================] - 24s 381ms/step - loss: 1.0838 - val_loss: 1.3610\n",
            "Epoch 20/50\n",
            "62/62 [==============================] - 31s 490ms/step - loss: 1.0500 - val_loss: 1.3564\n",
            "Epoch 21/50\n",
            "62/62 [==============================] - 33s 521ms/step - loss: 1.0155 - val_loss: 1.3568\n",
            "Epoch 22/50\n",
            "62/62 [==============================] - 34s 540ms/step - loss: 0.9827 - val_loss: 1.3643\n",
            "Epoch 23/50\n",
            "62/62 [==============================] - 43s 674ms/step - loss: 0.9481 - val_loss: 1.3681\n",
            "Epoch 24/50\n",
            "62/62 [==============================] - 29s 442ms/step - loss: 0.9117 - val_loss: 1.3780\n",
            "Epoch 25/50\n",
            "62/62 [==============================] - 34s 523ms/step - loss: 0.8749 - val_loss: 1.3932\n",
            "Epoch 26/50\n",
            "62/62 [==============================] - 35s 523ms/step - loss: 0.8363 - val_loss: 1.4031\n",
            "Epoch 27/50\n",
            "62/62 [==============================] - 34s 542ms/step - loss: 0.7976 - val_loss: 1.4219\n",
            "Epoch 28/50\n",
            "62/62 [==============================] - 36s 554ms/step - loss: 0.7573 - val_loss: 1.4441\n",
            "Epoch 29/50\n",
            "62/62 [==============================] - 40s 637ms/step - loss: 0.7169 - val_loss: 1.4744\n",
            "Epoch 30/50\n",
            "62/62 [==============================] - 26s 403ms/step - loss: 0.6768 - val_loss: 1.5001\n",
            "Epoch 31/50\n",
            "62/62 [==============================] - 36s 560ms/step - loss: 0.6296 - val_loss: 1.5329\n",
            "Epoch 32/50\n",
            "62/62 [==============================] - 36s 577ms/step - loss: 0.5890 - val_loss: 1.5620\n",
            "Epoch 33/50\n",
            "62/62 [==============================] - 38s 574ms/step - loss: 0.5459 - val_loss: 1.6039\n",
            "Epoch 34/50\n",
            "62/62 [==============================] - 43s 669ms/step - loss: 0.5062 - val_loss: 1.6411\n",
            "Epoch 35/50\n",
            "62/62 [==============================] - 27s 430ms/step - loss: 0.4651 - val_loss: 1.6757\n",
            "Epoch 36/50\n",
            "62/62 [==============================] - 32s 496ms/step - loss: 0.4255 - val_loss: 1.7297\n",
            "Epoch 37/50\n",
            "62/62 [==============================] - 34s 534ms/step - loss: 0.3915 - val_loss: 1.7677\n",
            "Epoch 38/50\n",
            "62/62 [==============================] - 36s 576ms/step - loss: 0.3560 - val_loss: 1.8138\n",
            "Epoch 39/50\n",
            "62/62 [==============================] - 37s 569ms/step - loss: 0.3246 - val_loss: 1.8558\n",
            "Epoch 40/50\n",
            "62/62 [==============================] - 38s 599ms/step - loss: 0.2952 - val_loss: 1.8985\n",
            "Epoch 41/50\n",
            "62/62 [==============================] - 39s 613ms/step - loss: 0.2658 - val_loss: 1.9366\n",
            "Epoch 42/50\n",
            "62/62 [==============================] - 28s 431ms/step - loss: 0.2415 - val_loss: 1.9842\n",
            "Epoch 43/50\n",
            "62/62 [==============================] - 34s 525ms/step - loss: 0.2196 - val_loss: 2.0238\n",
            "Epoch 44/50\n",
            "62/62 [==============================] - 34s 543ms/step - loss: 0.2000 - val_loss: 2.0733\n",
            "Epoch 45/50\n",
            "62/62 [==============================] - 38s 569ms/step - loss: 0.1843 - val_loss: 2.1088\n",
            "Epoch 46/50\n",
            "62/62 [==============================] - 39s 603ms/step - loss: 0.1686 - val_loss: 2.1363\n",
            "Epoch 47/50\n",
            "62/62 [==============================] - 38s 591ms/step - loss: 0.1538 - val_loss: 2.1752\n",
            "Epoch 48/50\n",
            "62/62 [==============================] - 38s 595ms/step - loss: 0.1398 - val_loss: 2.2194\n",
            "Epoch 49/50\n",
            "62/62 [==============================] - 40s 620ms/step - loss: 0.1293 - val_loss: 2.2439\n",
            "Epoch 50/50\n",
            "62/62 [==============================] - 29s 424ms/step - loss: 0.1194 - val_loss: 2.2848\n"
          ]
        }
      ],
      "source": [
        "trump_LSTM_history = trump_LSTM.fit(trump_train, epochs=epochs, callbacks=[trump_LSTM_checkpoint_callback, tensorboard_callback], validation_data=trump_val)"
      ]
    },
    {
      "cell_type": "code",
      "execution_count": 36,
      "metadata": {
        "id": "_K5Sz26qkpPT"
      },
      "outputs": [
        {
          "data": {
            "text/plain": [
              "Reusing TensorBoard on port 6006 (pid 14840), started 17:25:16 ago. (Use '!kill 14840' to kill it.)"
            ]
          },
          "metadata": {},
          "output_type": "display_data"
        },
        {
          "data": {
            "text/html": [
              "\n",
              "      <iframe id=\"tensorboard-frame-f38400c272293095\" width=\"100%\" height=\"800\" frameborder=\"0\">\n",
              "      </iframe>\n",
              "      <script>\n",
              "        (function() {\n",
              "          const frame = document.getElementById(\"tensorboard-frame-f38400c272293095\");\n",
              "          const url = new URL(\"http://localhost\");\n",
              "          const port = 6006;\n",
              "          if (port) {\n",
              "            url.port = port;\n",
              "          }\n",
              "          frame.src = url;\n",
              "        })();\n",
              "      </script>\n",
              "    "
            ],
            "text/plain": [
              "<IPython.core.display.HTML object>"
            ]
          },
          "metadata": {},
          "output_type": "display_data"
        }
      ],
      "source": [
        "%tensorboard --logdir logs/fit"
      ]
    },
    {
      "cell_type": "code",
      "execution_count": 37,
      "metadata": {
        "id": "I2taFUvXYgiu"
      },
      "outputs": [
        {
          "data": {
            "image/png": "[encoded data removed]",
            "text/plain": [
              "<Figure size 1080x1080 with 1 Axes>"
            ]
          },
          "metadata": {
            "needs_background": "light"
          },
          "output_type": "display_data"
        }
      ],
      "source": [
        "from matplotlib import pyplot as plt\n",
        "clinton_GRU_loss = clinton_GRU_history.history['loss']\n",
        "clinton_GRU_val_loss = clinton_GRU_history.history['val_loss']\n",
        "clinton_LSTM_loss = clinton_LSTM_history.history['loss']\n",
        "clinton_LSTM_val_loss = clinton_LSTM_history.history['val_loss']\n",
        "\n",
        "trump_GRU_loss = trump_GRU_history.history['loss']\n",
        "trump_GRU_val_loss = trump_GRU_history.history['val_loss']\n",
        "trump_LSTM_loss = trump_LSTM_history.history['loss']\n",
        "trump_LSTM_val_loss = trump_LSTM_history.history['val_loss']\n",
        "\n",
        "plt.figure(figsize=(15,15))\n",
        "plt.plot(range(epochs), clinton_GRU_loss, label='clinton GRU train loss', color='red')\n",
        "plt.plot(range(epochs), clinton_GRU_val_loss, label='clinton GRU validation loss', color='salmon')\n",
        "plt.plot(range(epochs), clinton_LSTM_loss, label='clinton LSTM train loss', color='green')\n",
        "plt.plot(range(epochs), clinton_LSTM_val_loss, label='clinton LSTM validation loss', color='limegreen')\n",
        "\n",
        "plt.plot(range(epochs), trump_GRU_loss, label='trump GRU train loss', color='blue')\n",
        "plt.plot(range(epochs), trump_GRU_val_loss, label='trump GRU validation loss', color='royalblue')\n",
        "plt.plot(range(epochs), trump_LSTM_loss, label='trump LSTM train loss', color='darkviolet')\n",
        "plt.plot(range(epochs), trump_LSTM_val_loss, label='trump LSTM validation loss', color='violet')\n",
        "\n",
        "plt.legend()\n",
        "plt.show()\n",
        "\n"
      ]
    },
    {
      "cell_type": "code",
      "execution_count": 38,
      "metadata": {
        "id": "jmFKM2ava5A7"
      },
      "outputs": [
        {
          "name": "stdout",
          "output_type": "stream",
          "text": [
            "Clinton GRU model best epoch: 14\n",
            "Clinton LSTM model best epoch: 22\n",
            "trump GRU model best epoch: 15\n",
            "trump LSTM model best epoch: 20\n"
          ]
        }
      ],
      "source": [
        "clinton_GRU_best_epoch = np.argmin(clinton_GRU_val_loss)+1\n",
        "clinton_LSTM_best_epoch = np.argmin(clinton_LSTM_val_loss)+1\n",
        "\n",
        "trump_GRU_best_epoch = np.argmin(trump_GRU_val_loss)+1\n",
        "trump_LSTM_best_epoch = np.argmin(trump_LSTM_val_loss)+1\n",
        "\n",
        "print(f'Clinton GRU model best epoch: {clinton_GRU_best_epoch}')\n",
        "print(f'Clinton LSTM model best epoch: {clinton_LSTM_best_epoch}')\n",
        "\n",
        "print(f'trump GRU model best epoch: {trump_GRU_best_epoch}')\n",
        "print(f'trump LSTM model best epoch: {trump_LSTM_best_epoch}')"
      ]
    },
    {
      "cell_type": "code",
      "execution_count": 46,
      "metadata": {
        "id": "SdAfiAKIbgIf"
      },
      "outputs": [
        {
          "data": {
            "text/plain": [
              "<tensorflow.python.training.tracking.util.CheckpointLoadStatus at 0x23951451d90>"
            ]
          },
          "execution_count": 46,
          "metadata": {},
          "output_type": "execute_result"
        }
      ],
      "source": [
        "clinton_GRU.load_weights('./clinton_GRU_training_checkpoints/ckpt_'+str(clinton_GRU_best_epoch))\n",
        "clinton_LSTM.load_weights('./clinton_LSTM_training_checkpoints/ckpt_'+str(clinton_LSTM_best_epoch))\n",
        "\n",
        "trump_GRU.load_weights('./trump_GRU_training_checkpoints/ckpt_'+str(trump_GRU_best_epoch))\n",
        "trump_LSTM.load_weights('./trump_LSTM_training_checkpoints/ckpt_'+str(trump_LSTM_best_epoch))"
      ]
    },
    {
      "cell_type": "code",
      "execution_count": 55,
      "metadata": {},
      "outputs": [
        {
          "data": {
            "text/plain": [
              "<tensorflow.python.training.tracking.util.CheckpointLoadStatus at 0x2395145f850>"
            ]
          },
          "execution_count": 55,
          "metadata": {},
          "output_type": "execute_result"
        }
      ],
      "source": [
        "clinton_GRU.load_weights('./clinton_GRU_training_checkpoints/ckpt_'+str(epochs))\n",
        "clinton_LSTM.load_weights('./clinton_LSTM_training_checkpoints/ckpt_'+str(epochs))\n",
        "\n",
        "trump_GRU.load_weights('./trump_GRU_training_checkpoints/ckpt_'+str(epochs))\n",
        "trump_LSTM.load_weights('./trump_LSTM_training_checkpoints/ckpt_'+str(epochs))"
      ]
    },
    {
      "cell_type": "code",
      "execution_count": 56,
      "metadata": {
        "id": "9Y0xyH8hFZ_v"
      },
      "outputs": [
        {
          "name": "stdout",
          "output_type": "stream",
          "text": [
            " new Government also, as my own land, eshate in the last two fellow Americans all across America. Thank you. Government workers, coming harder than ever befin to stab pepurity to all of our efforts to  \n",
            "\n",
            "________________________________________________________________________________\n",
            "\n",
            "Run time: 5.727677583694458\n"
          ]
        }
      ],
      "source": [
        "start = time.time()\n",
        "states = None\n",
        "next_char = tf.constant([' '])\n",
        "\n",
        "generated_text = clinton_GRU.generate_text(200, next_char)\n",
        "end = time.time()\n",
        "print(generated_text, '\\n\\n'+'_'*80)\n",
        "print('\\nRun time:', end-start)"
      ]
    },
    {
      "cell_type": "code",
      "execution_count": 57,
      "metadata": {
        "id": "lL_tFxQpiVUH"
      },
      "outputs": [
        {
          "name": "stdout",
          "output_type": "stream",
          "text": [
            " strong stand to seize this place, and the world's still frending. They forge our economic programs were protected, the world cleans. Let me say gear for both parties in every year. Most of the minimum \n",
            "\n",
            "________________________________________________________________________________\n",
            "\n",
            "Run time: 6.5325236320495605\n"
          ]
        }
      ],
      "source": [
        "start = time.time()\n",
        "states = None\n",
        "next_char = tf.constant([' '])\n",
        "\n",
        "generated_text = clinton_LSTM.generate_text(200, next_char)\n",
        "end = time.time()\n",
        "print(generated_text, '\\n\\n'+'_'*80)\n",
        "print('\\nRun time:', end-start)"
      ]
    },
    {
      "cell_type": "code",
      "execution_count": 58,
      "metadata": {
        "id": "px9IO3NBiV_x"
      },
      "outputs": [
        {
          "name": "stdout",
          "output_type": "stream",
          "text": [
            " lowest level in 18 years. Walls work 100 percent. They're doing it down, ke there. In 2id, we got a loughter a year. It having to holone especially those who use new domas system. Otam. They won't be  \n",
            "\n",
            "________________________________________________________________________________\n",
            "\n",
            "Run time: 6.836702823638916\n"
          ]
        }
      ],
      "source": [
        "start = time.time()\n",
        "states = None\n",
        "next_char = tf.constant([' '])\n",
        "\n",
        "generated_text = trump_GRU.generate_text(200, next_char)\n",
        "end = time.time()\n",
        "print(generated_text, '\\n\\n'+'_'*80)\n",
        "print('\\nRun time:', end-start)"
      ]
    },
    {
      "cell_type": "code",
      "execution_count": 59,
      "metadata": {
        "id": "sYx4eeNOiWg0"
      },
      "outputs": [
        {
          "name": "stdout",
          "output_type": "stream",
          "text": [
            " chosel chaim so meant her in a now mine, in she fail, more if it is to tell you that we are talking about kelp America sure that you want it thousand. My follow inerpired up tratievesthe regulations a \n",
            "\n",
            "________________________________________________________________________________\n",
            "\n",
            "Run time: 7.367285251617432\n"
          ]
        }
      ],
      "source": [
        "start = time.time()\n",
        "states = None\n",
        "next_char = tf.constant([' '])\n",
        "\n",
        "generated_text = trump_LSTM.generate_text(200, next_char)\n",
        "end = time.time()\n",
        "print(generated_text, '\\n\\n'+'_'*80)\n",
        "print('\\nRun time:', end-start)"
      ]
    },
    {
      "cell_type": "code",
      "execution_count": null,
      "metadata": {},
      "outputs": [],
      "source": []
    },
    {
      "cell_type": "markdown",
      "metadata": {
        "id": "0PbJ8Mnb9cOZ"
      },
      "source": []
    }
  ],
  "metadata": {
    "accelerator": "GPU",
    "colab": {
      "collapsed_sections": [],
      "name": "ISPR Midterm 3 - Alessandro Trenta.ipynb",
      "provenance": []
    },
    "kernelspec": {
      "display_name": "Python 3",
      "name": "python3"
    },
    "language_info": {
      "codemirror_mode": {
        "name": "ipython",
        "version": 3
      },
      "file_extension": ".py",
      "mimetype": "text/x-python",
      "name": "python",
      "nbconvert_exporter": "python",
      "pygments_lexer": "ipython3",
      "version": "3.9.7"
    }
  },
  "nbformat": 4,
  "nbformat_minor": 0
}
